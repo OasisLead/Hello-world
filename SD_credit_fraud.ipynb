{
  "nbformat": 4,
  "nbformat_minor": 0,
  "metadata": {
    "colab": {
      "provenance": [],
      "include_colab_link": true
    },
    "kernelspec": {
      "name": "python3",
      "display_name": "Python 3"
    },
    "language_info": {
      "name": "python"
    }
  },
  "cells": [
    {
      "cell_type": "markdown",
      "metadata": {
        "id": "view-in-github",
        "colab_type": "text"
      },
      "source": [
        "<a href=\"https://colab.research.google.com/github/OasisLead/Hello-world/blob/main/SD_credit_fraud.ipynb\" target=\"_parent\"><img src=\"https://colab.research.google.com/assets/colab-badge.svg\" alt=\"Open In Colab\"/></a>"
      ]
    },
    {
      "cell_type": "markdown",
      "source": [
        "\n",
        "# **SD 201 PROJECT**\n"
      ],
      "metadata": {
        "id": "2XTCke-akjmo"
      }
    },
    {
      "cell_type": "markdown",
      "source": [
        "# **Introduction**\n",
        "\n",
        "The question we will try to answer in this project is : How to detect credit card frauds ?\n",
        "\n",
        "\n",
        "\n",
        "**Data set**\n",
        "\n",
        "\n",
        "The dataset contains transactions made by credit cards in September 2013 by European cardholders.\n",
        "This dataset presents transactions that occurred in two days, where we have 492 frauds out of 284,807 transactions. The dataset is highly unbalanced, the positive class (frauds) account for 0.172% of all transactions.\n",
        "\n",
        "This data set contains most of the information that a Bank would have available on a transaction to detect if it is a fraud or not. One of the challenges of fraud detection is that the amount of information that you can gather on a single transaction is clearly limited.\n",
        "\n",
        "This data set is interesting because it is realistic concerning the number of information for each transaction.\n",
        "\n",
        "However, it contains only transactions done during 2 days. We could have more data ( more data is always better), but this quantity is sufficient to train a machine learning classification model and to gather enough correlations to make real inference. Moreover, having a restricted data set in time may be a good thing, because as the market and banking world evolves, data will naturally change, so we can't really count on old data to solve new problems. A realistic algorithm would have to update its parameters as the market evolves, and maybe, use transfer learning to adapt the old model ( trained on old data) to the new data. In this project we won't use transfer learning, and will focus on building a classification model from the 2 days data to detect future frauds.\n",
        "\n",
        "\n",
        "\n",
        "To describe the data set more precisely, it contains only vectors of numbers. Each vector represents a credit card transaction.\n",
        "The different attributes of the vectors are either simple information like time or amount, or they are private informations on the transaction, therefore having no real name ( They are called V1, V2, etc...). This may be a problem in case we want to interpret the models and the data. However, a bank would have access to the hidden labels and could interpret the impact of each feature on the model and on the class.\n",
        "All features except class, time and amount are the result of a PCA transformation.\n",
        "We have two labeled classes, fraud and non-fraud transactions.\n",
        "\n",
        "**Goals**:\n",
        "\n",
        "<ul>\n",
        "<li> Understand the distribution of the data ( The role of each columns, correlations, differences beetween classes) </li>\n",
        "\n",
        "<li> Pre-process the data set (normalization, outliers) and create a 50/50 sub-sample for classification which has as many fraud as non-fraud, and use oversampling to add more non-fraud data (To deal with the unbalanced set, we will also use cost-sensitive learning and compare different cost functions)</li>\n",
        "\n",
        "<li> Choose the classifiers we are going to use, compare the classifiers and decide which one has a higher accuracy ( Choose beetween different classifiers and different parameters for each classifier), avoid overfitting with a validation set </li>\n",
        "\n",
        "</ul>\n",
        "\n",
        "Link of the dataset : https://www.kaggle.com/datasets/mlg-ulb/creditcardfraud?resource=download\n",
        "\n"
      ],
      "metadata": {
        "id": "SEbbUGGOjHLn"
      }
    },
    {
      "cell_type": "markdown",
      "source": [
        "# **Imported Libraries**"
      ],
      "metadata": {
        "id": "N3mhQyK3jSZd"
      }
    },
    {
      "cell_type": "code",
      "source": [
        "import sklearn as sk\n",
        "import numpy as np\n",
        "from sklearn import cluster\n",
        "from sklearn.preprocessing import LabelEncoder\n",
        "from sklearn.neighbors import KNeighborsClassifier\n",
        "import pandas as pd\n",
        "import matplotlib.pyplot as plt\n",
        "import seaborn as sns\n",
        "import math\n",
        "from math import *\n",
        "\n",
        "# Classifier Libraries\n",
        "from sklearn.linear_model import LogisticRegression\n",
        "from sklearn.svm import SVC\n",
        "from sklearn.neighbors import KNeighborsClassifier\n",
        "from sklearn.tree import DecisionTreeClassifier\n",
        "from sklearn.ensemble import RandomForestClassifier\n",
        "import collections\n",
        "\n",
        "from sklearn.cluster import KMeans\n",
        "import random as rd"
      ],
      "metadata": {
        "id": "mihZRwRZjQoP"
      },
      "execution_count": null,
      "outputs": []
    },
    {
      "cell_type": "markdown",
      "source": [
        "# **Pre-processing**"
      ],
      "metadata": {
        "id": "M2DHolqfspq3"
      }
    },
    {
      "cell_type": "code",
      "source": [
        "#Si vous avez le fichier en local\n",
        "\n",
        "#df = pd.read_csv(open(\"creditcard.csv\")) #-> Pour lancer la version locale\n",
        "#df.dropna()\n",
        "\n",
        "\n"
      ],
      "metadata": {
        "id": "lOwx3-QwmP6F"
      },
      "execution_count": null,
      "outputs": []
    },
    {
      "cell_type": "code",
      "source": [
        "#Si vous avez le fichier sur votre google drive sur GOOGLE COLAB\n",
        "\n",
        "from google.colab import drive\n",
        "drive.mount('/content/drive')\n",
        "df = pd.read_csv(open(\"/content/drive/MyDrive/creditcard.csv\"))\n",
        "df.dropna()"
      ],
      "metadata": {
        "id": "ukFLwkmCnVi4",
        "colab": {
          "base_uri": "https://localhost:8080/",
          "height": 505
        },
        "outputId": "35188659-a0ae-41d7-e64b-5e012b3f44f3"
      },
      "execution_count": null,
      "outputs": [
        {
          "output_type": "stream",
          "name": "stdout",
          "text": [
            "Drive already mounted at /content/drive; to attempt to forcibly remount, call drive.mount(\"/content/drive\", force_remount=True).\n"
          ]
        },
        {
          "output_type": "execute_result",
          "data": {
            "text/plain": [
              "            Time         V1         V2        V3        V4        V5  \\\n",
              "0            0.0  -1.359807  -0.072781  2.536347  1.378155 -0.338321   \n",
              "1            0.0   1.191857   0.266151  0.166480  0.448154  0.060018   \n",
              "2            1.0  -1.358354  -1.340163  1.773209  0.379780 -0.503198   \n",
              "3            1.0  -0.966272  -0.185226  1.792993 -0.863291 -0.010309   \n",
              "4            2.0  -1.158233   0.877737  1.548718  0.403034 -0.407193   \n",
              "...          ...        ...        ...       ...       ...       ...   \n",
              "284802  172786.0 -11.881118  10.071785 -9.834783 -2.066656 -5.364473   \n",
              "284803  172787.0  -0.732789  -0.055080  2.035030 -0.738589  0.868229   \n",
              "284804  172788.0   1.919565  -0.301254 -3.249640 -0.557828  2.630515   \n",
              "284805  172788.0  -0.240440   0.530483  0.702510  0.689799 -0.377961   \n",
              "284806  172792.0  -0.533413  -0.189733  0.703337 -0.506271 -0.012546   \n",
              "\n",
              "              V6        V7        V8        V9  ...       V21       V22  \\\n",
              "0       0.462388  0.239599  0.098698  0.363787  ... -0.018307  0.277838   \n",
              "1      -0.082361 -0.078803  0.085102 -0.255425  ... -0.225775 -0.638672   \n",
              "2       1.800499  0.791461  0.247676 -1.514654  ...  0.247998  0.771679   \n",
              "3       1.247203  0.237609  0.377436 -1.387024  ... -0.108300  0.005274   \n",
              "4       0.095921  0.592941 -0.270533  0.817739  ... -0.009431  0.798278   \n",
              "...          ...       ...       ...       ...  ...       ...       ...   \n",
              "284802 -2.606837 -4.918215  7.305334  1.914428  ...  0.213454  0.111864   \n",
              "284803  1.058415  0.024330  0.294869  0.584800  ...  0.214205  0.924384   \n",
              "284804  3.031260 -0.296827  0.708417  0.432454  ...  0.232045  0.578229   \n",
              "284805  0.623708 -0.686180  0.679145  0.392087  ...  0.265245  0.800049   \n",
              "284806 -0.649617  1.577006 -0.414650  0.486180  ...  0.261057  0.643078   \n",
              "\n",
              "             V23       V24       V25       V26       V27       V28  Amount  \\\n",
              "0      -0.110474  0.066928  0.128539 -0.189115  0.133558 -0.021053  149.62   \n",
              "1       0.101288 -0.339846  0.167170  0.125895 -0.008983  0.014724    2.69   \n",
              "2       0.909412 -0.689281 -0.327642 -0.139097 -0.055353 -0.059752  378.66   \n",
              "3      -0.190321 -1.175575  0.647376 -0.221929  0.062723  0.061458  123.50   \n",
              "4      -0.137458  0.141267 -0.206010  0.502292  0.219422  0.215153   69.99   \n",
              "...          ...       ...       ...       ...       ...       ...     ...   \n",
              "284802  1.014480 -0.509348  1.436807  0.250034  0.943651  0.823731    0.77   \n",
              "284803  0.012463 -1.016226 -0.606624 -0.395255  0.068472 -0.053527   24.79   \n",
              "284804 -0.037501  0.640134  0.265745 -0.087371  0.004455 -0.026561   67.88   \n",
              "284805 -0.163298  0.123205 -0.569159  0.546668  0.108821  0.104533   10.00   \n",
              "284806  0.376777  0.008797 -0.473649 -0.818267 -0.002415  0.013649  217.00   \n",
              "\n",
              "        Class  \n",
              "0           0  \n",
              "1           0  \n",
              "2           0  \n",
              "3           0  \n",
              "4           0  \n",
              "...       ...  \n",
              "284802      0  \n",
              "284803      0  \n",
              "284804      0  \n",
              "284805      0  \n",
              "284806      0  \n",
              "\n",
              "[284807 rows x 31 columns]"
            ],
            "text/html": [
              "\n",
              "  <div id=\"df-d613bdbf-a007-4f7f-922d-f2a505ff55fe\">\n",
              "    <div class=\"colab-df-container\">\n",
              "      <div>\n",
              "<style scoped>\n",
              "    .dataframe tbody tr th:only-of-type {\n",
              "        vertical-align: middle;\n",
              "    }\n",
              "\n",
              "    .dataframe tbody tr th {\n",
              "        vertical-align: top;\n",
              "    }\n",
              "\n",
              "    .dataframe thead th {\n",
              "        text-align: right;\n",
              "    }\n",
              "</style>\n",
              "<table border=\"1\" class=\"dataframe\">\n",
              "  <thead>\n",
              "    <tr style=\"text-align: right;\">\n",
              "      <th></th>\n",
              "      <th>Time</th>\n",
              "      <th>V1</th>\n",
              "      <th>V2</th>\n",
              "      <th>V3</th>\n",
              "      <th>V4</th>\n",
              "      <th>V5</th>\n",
              "      <th>V6</th>\n",
              "      <th>V7</th>\n",
              "      <th>V8</th>\n",
              "      <th>V9</th>\n",
              "      <th>...</th>\n",
              "      <th>V21</th>\n",
              "      <th>V22</th>\n",
              "      <th>V23</th>\n",
              "      <th>V24</th>\n",
              "      <th>V25</th>\n",
              "      <th>V26</th>\n",
              "      <th>V27</th>\n",
              "      <th>V28</th>\n",
              "      <th>Amount</th>\n",
              "      <th>Class</th>\n",
              "    </tr>\n",
              "  </thead>\n",
              "  <tbody>\n",
              "    <tr>\n",
              "      <th>0</th>\n",
              "      <td>0.0</td>\n",
              "      <td>-1.359807</td>\n",
              "      <td>-0.072781</td>\n",
              "      <td>2.536347</td>\n",
              "      <td>1.378155</td>\n",
              "      <td>-0.338321</td>\n",
              "      <td>0.462388</td>\n",
              "      <td>0.239599</td>\n",
              "      <td>0.098698</td>\n",
              "      <td>0.363787</td>\n",
              "      <td>...</td>\n",
              "      <td>-0.018307</td>\n",
              "      <td>0.277838</td>\n",
              "      <td>-0.110474</td>\n",
              "      <td>0.066928</td>\n",
              "      <td>0.128539</td>\n",
              "      <td>-0.189115</td>\n",
              "      <td>0.133558</td>\n",
              "      <td>-0.021053</td>\n",
              "      <td>149.62</td>\n",
              "      <td>0</td>\n",
              "    </tr>\n",
              "    <tr>\n",
              "      <th>1</th>\n",
              "      <td>0.0</td>\n",
              "      <td>1.191857</td>\n",
              "      <td>0.266151</td>\n",
              "      <td>0.166480</td>\n",
              "      <td>0.448154</td>\n",
              "      <td>0.060018</td>\n",
              "      <td>-0.082361</td>\n",
              "      <td>-0.078803</td>\n",
              "      <td>0.085102</td>\n",
              "      <td>-0.255425</td>\n",
              "      <td>...</td>\n",
              "      <td>-0.225775</td>\n",
              "      <td>-0.638672</td>\n",
              "      <td>0.101288</td>\n",
              "      <td>-0.339846</td>\n",
              "      <td>0.167170</td>\n",
              "      <td>0.125895</td>\n",
              "      <td>-0.008983</td>\n",
              "      <td>0.014724</td>\n",
              "      <td>2.69</td>\n",
              "      <td>0</td>\n",
              "    </tr>\n",
              "    <tr>\n",
              "      <th>2</th>\n",
              "      <td>1.0</td>\n",
              "      <td>-1.358354</td>\n",
              "      <td>-1.340163</td>\n",
              "      <td>1.773209</td>\n",
              "      <td>0.379780</td>\n",
              "      <td>-0.503198</td>\n",
              "      <td>1.800499</td>\n",
              "      <td>0.791461</td>\n",
              "      <td>0.247676</td>\n",
              "      <td>-1.514654</td>\n",
              "      <td>...</td>\n",
              "      <td>0.247998</td>\n",
              "      <td>0.771679</td>\n",
              "      <td>0.909412</td>\n",
              "      <td>-0.689281</td>\n",
              "      <td>-0.327642</td>\n",
              "      <td>-0.139097</td>\n",
              "      <td>-0.055353</td>\n",
              "      <td>-0.059752</td>\n",
              "      <td>378.66</td>\n",
              "      <td>0</td>\n",
              "    </tr>\n",
              "    <tr>\n",
              "      <th>3</th>\n",
              "      <td>1.0</td>\n",
              "      <td>-0.966272</td>\n",
              "      <td>-0.185226</td>\n",
              "      <td>1.792993</td>\n",
              "      <td>-0.863291</td>\n",
              "      <td>-0.010309</td>\n",
              "      <td>1.247203</td>\n",
              "      <td>0.237609</td>\n",
              "      <td>0.377436</td>\n",
              "      <td>-1.387024</td>\n",
              "      <td>...</td>\n",
              "      <td>-0.108300</td>\n",
              "      <td>0.005274</td>\n",
              "      <td>-0.190321</td>\n",
              "      <td>-1.175575</td>\n",
              "      <td>0.647376</td>\n",
              "      <td>-0.221929</td>\n",
              "      <td>0.062723</td>\n",
              "      <td>0.061458</td>\n",
              "      <td>123.50</td>\n",
              "      <td>0</td>\n",
              "    </tr>\n",
              "    <tr>\n",
              "      <th>4</th>\n",
              "      <td>2.0</td>\n",
              "      <td>-1.158233</td>\n",
              "      <td>0.877737</td>\n",
              "      <td>1.548718</td>\n",
              "      <td>0.403034</td>\n",
              "      <td>-0.407193</td>\n",
              "      <td>0.095921</td>\n",
              "      <td>0.592941</td>\n",
              "      <td>-0.270533</td>\n",
              "      <td>0.817739</td>\n",
              "      <td>...</td>\n",
              "      <td>-0.009431</td>\n",
              "      <td>0.798278</td>\n",
              "      <td>-0.137458</td>\n",
              "      <td>0.141267</td>\n",
              "      <td>-0.206010</td>\n",
              "      <td>0.502292</td>\n",
              "      <td>0.219422</td>\n",
              "      <td>0.215153</td>\n",
              "      <td>69.99</td>\n",
              "      <td>0</td>\n",
              "    </tr>\n",
              "    <tr>\n",
              "      <th>...</th>\n",
              "      <td>...</td>\n",
              "      <td>...</td>\n",
              "      <td>...</td>\n",
              "      <td>...</td>\n",
              "      <td>...</td>\n",
              "      <td>...</td>\n",
              "      <td>...</td>\n",
              "      <td>...</td>\n",
              "      <td>...</td>\n",
              "      <td>...</td>\n",
              "      <td>...</td>\n",
              "      <td>...</td>\n",
              "      <td>...</td>\n",
              "      <td>...</td>\n",
              "      <td>...</td>\n",
              "      <td>...</td>\n",
              "      <td>...</td>\n",
              "      <td>...</td>\n",
              "      <td>...</td>\n",
              "      <td>...</td>\n",
              "      <td>...</td>\n",
              "    </tr>\n",
              "    <tr>\n",
              "      <th>284802</th>\n",
              "      <td>172786.0</td>\n",
              "      <td>-11.881118</td>\n",
              "      <td>10.071785</td>\n",
              "      <td>-9.834783</td>\n",
              "      <td>-2.066656</td>\n",
              "      <td>-5.364473</td>\n",
              "      <td>-2.606837</td>\n",
              "      <td>-4.918215</td>\n",
              "      <td>7.305334</td>\n",
              "      <td>1.914428</td>\n",
              "      <td>...</td>\n",
              "      <td>0.213454</td>\n",
              "      <td>0.111864</td>\n",
              "      <td>1.014480</td>\n",
              "      <td>-0.509348</td>\n",
              "      <td>1.436807</td>\n",
              "      <td>0.250034</td>\n",
              "      <td>0.943651</td>\n",
              "      <td>0.823731</td>\n",
              "      <td>0.77</td>\n",
              "      <td>0</td>\n",
              "    </tr>\n",
              "    <tr>\n",
              "      <th>284803</th>\n",
              "      <td>172787.0</td>\n",
              "      <td>-0.732789</td>\n",
              "      <td>-0.055080</td>\n",
              "      <td>2.035030</td>\n",
              "      <td>-0.738589</td>\n",
              "      <td>0.868229</td>\n",
              "      <td>1.058415</td>\n",
              "      <td>0.024330</td>\n",
              "      <td>0.294869</td>\n",
              "      <td>0.584800</td>\n",
              "      <td>...</td>\n",
              "      <td>0.214205</td>\n",
              "      <td>0.924384</td>\n",
              "      <td>0.012463</td>\n",
              "      <td>-1.016226</td>\n",
              "      <td>-0.606624</td>\n",
              "      <td>-0.395255</td>\n",
              "      <td>0.068472</td>\n",
              "      <td>-0.053527</td>\n",
              "      <td>24.79</td>\n",
              "      <td>0</td>\n",
              "    </tr>\n",
              "    <tr>\n",
              "      <th>284804</th>\n",
              "      <td>172788.0</td>\n",
              "      <td>1.919565</td>\n",
              "      <td>-0.301254</td>\n",
              "      <td>-3.249640</td>\n",
              "      <td>-0.557828</td>\n",
              "      <td>2.630515</td>\n",
              "      <td>3.031260</td>\n",
              "      <td>-0.296827</td>\n",
              "      <td>0.708417</td>\n",
              "      <td>0.432454</td>\n",
              "      <td>...</td>\n",
              "      <td>0.232045</td>\n",
              "      <td>0.578229</td>\n",
              "      <td>-0.037501</td>\n",
              "      <td>0.640134</td>\n",
              "      <td>0.265745</td>\n",
              "      <td>-0.087371</td>\n",
              "      <td>0.004455</td>\n",
              "      <td>-0.026561</td>\n",
              "      <td>67.88</td>\n",
              "      <td>0</td>\n",
              "    </tr>\n",
              "    <tr>\n",
              "      <th>284805</th>\n",
              "      <td>172788.0</td>\n",
              "      <td>-0.240440</td>\n",
              "      <td>0.530483</td>\n",
              "      <td>0.702510</td>\n",
              "      <td>0.689799</td>\n",
              "      <td>-0.377961</td>\n",
              "      <td>0.623708</td>\n",
              "      <td>-0.686180</td>\n",
              "      <td>0.679145</td>\n",
              "      <td>0.392087</td>\n",
              "      <td>...</td>\n",
              "      <td>0.265245</td>\n",
              "      <td>0.800049</td>\n",
              "      <td>-0.163298</td>\n",
              "      <td>0.123205</td>\n",
              "      <td>-0.569159</td>\n",
              "      <td>0.546668</td>\n",
              "      <td>0.108821</td>\n",
              "      <td>0.104533</td>\n",
              "      <td>10.00</td>\n",
              "      <td>0</td>\n",
              "    </tr>\n",
              "    <tr>\n",
              "      <th>284806</th>\n",
              "      <td>172792.0</td>\n",
              "      <td>-0.533413</td>\n",
              "      <td>-0.189733</td>\n",
              "      <td>0.703337</td>\n",
              "      <td>-0.506271</td>\n",
              "      <td>-0.012546</td>\n",
              "      <td>-0.649617</td>\n",
              "      <td>1.577006</td>\n",
              "      <td>-0.414650</td>\n",
              "      <td>0.486180</td>\n",
              "      <td>...</td>\n",
              "      <td>0.261057</td>\n",
              "      <td>0.643078</td>\n",
              "      <td>0.376777</td>\n",
              "      <td>0.008797</td>\n",
              "      <td>-0.473649</td>\n",
              "      <td>-0.818267</td>\n",
              "      <td>-0.002415</td>\n",
              "      <td>0.013649</td>\n",
              "      <td>217.00</td>\n",
              "      <td>0</td>\n",
              "    </tr>\n",
              "  </tbody>\n",
              "</table>\n",
              "<p>284807 rows × 31 columns</p>\n",
              "</div>\n",
              "      <button class=\"colab-df-convert\" onclick=\"convertToInteractive('df-d613bdbf-a007-4f7f-922d-f2a505ff55fe')\"\n",
              "              title=\"Convert this dataframe to an interactive table.\"\n",
              "              style=\"display:none;\">\n",
              "        \n",
              "  <svg xmlns=\"http://www.w3.org/2000/svg\" height=\"24px\"viewBox=\"0 0 24 24\"\n",
              "       width=\"24px\">\n",
              "    <path d=\"M0 0h24v24H0V0z\" fill=\"none\"/>\n",
              "    <path d=\"M18.56 5.44l.94 2.06.94-2.06 2.06-.94-2.06-.94-.94-2.06-.94 2.06-2.06.94zm-11 1L8.5 8.5l.94-2.06 2.06-.94-2.06-.94L8.5 2.5l-.94 2.06-2.06.94zm10 10l.94 2.06.94-2.06 2.06-.94-2.06-.94-.94-2.06-.94 2.06-2.06.94z\"/><path d=\"M17.41 7.96l-1.37-1.37c-.4-.4-.92-.59-1.43-.59-.52 0-1.04.2-1.43.59L10.3 9.45l-7.72 7.72c-.78.78-.78 2.05 0 2.83L4 21.41c.39.39.9.59 1.41.59.51 0 1.02-.2 1.41-.59l7.78-7.78 2.81-2.81c.8-.78.8-2.07 0-2.86zM5.41 20L4 18.59l7.72-7.72 1.47 1.35L5.41 20z\"/>\n",
              "  </svg>\n",
              "      </button>\n",
              "      \n",
              "  <style>\n",
              "    .colab-df-container {\n",
              "      display:flex;\n",
              "      flex-wrap:wrap;\n",
              "      gap: 12px;\n",
              "    }\n",
              "\n",
              "    .colab-df-convert {\n",
              "      background-color: #E8F0FE;\n",
              "      border: none;\n",
              "      border-radius: 50%;\n",
              "      cursor: pointer;\n",
              "      display: none;\n",
              "      fill: #1967D2;\n",
              "      height: 32px;\n",
              "      padding: 0 0 0 0;\n",
              "      width: 32px;\n",
              "    }\n",
              "\n",
              "    .colab-df-convert:hover {\n",
              "      background-color: #E2EBFA;\n",
              "      box-shadow: 0px 1px 2px rgba(60, 64, 67, 0.3), 0px 1px 3px 1px rgba(60, 64, 67, 0.15);\n",
              "      fill: #174EA6;\n",
              "    }\n",
              "\n",
              "    [theme=dark] .colab-df-convert {\n",
              "      background-color: #3B4455;\n",
              "      fill: #D2E3FC;\n",
              "    }\n",
              "\n",
              "    [theme=dark] .colab-df-convert:hover {\n",
              "      background-color: #434B5C;\n",
              "      box-shadow: 0px 1px 3px 1px rgba(0, 0, 0, 0.15);\n",
              "      filter: drop-shadow(0px 1px 2px rgba(0, 0, 0, 0.3));\n",
              "      fill: #FFFFFF;\n",
              "    }\n",
              "  </style>\n",
              "\n",
              "      <script>\n",
              "        const buttonEl =\n",
              "          document.querySelector('#df-d613bdbf-a007-4f7f-922d-f2a505ff55fe button.colab-df-convert');\n",
              "        buttonEl.style.display =\n",
              "          google.colab.kernel.accessAllowed ? 'block' : 'none';\n",
              "\n",
              "        async function convertToInteractive(key) {\n",
              "          const element = document.querySelector('#df-d613bdbf-a007-4f7f-922d-f2a505ff55fe');\n",
              "          const dataTable =\n",
              "            await google.colab.kernel.invokeFunction('convertToInteractive',\n",
              "                                                     [key], {});\n",
              "          if (!dataTable) return;\n",
              "\n",
              "          const docLinkHtml = 'Like what you see? Visit the ' +\n",
              "            '<a target=\"_blank\" href=https://colab.research.google.com/notebooks/data_table.ipynb>data table notebook</a>'\n",
              "            + ' to learn more about interactive tables.';\n",
              "          element.innerHTML = '';\n",
              "          dataTable['output_type'] = 'display_data';\n",
              "          await google.colab.output.renderOutput(dataTable, element);\n",
              "          const docLink = document.createElement('div');\n",
              "          docLink.innerHTML = docLinkHtml;\n",
              "          element.appendChild(docLink);\n",
              "        }\n",
              "      </script>\n",
              "    </div>\n",
              "  </div>\n",
              "  "
            ]
          },
          "metadata": {},
          "execution_count": 7
        }
      ]
    },
    {
      "cell_type": "code",
      "source": [
        "\n",
        "print('No Frauds', round(df['Class'].value_counts()[0]/len(df) * 100,2), '% of the dataset')\n",
        "print('Frauds', round(df['Class'].value_counts()[1]/len(df) * 100,2), '% of the dataset')\n"
      ],
      "metadata": {
        "id": "Mz35zOKxzpZu",
        "colab": {
          "base_uri": "https://localhost:8080/"
        },
        "outputId": "03c8b61b-0394-4bfe-aefe-461aa1906b8b"
      },
      "execution_count": null,
      "outputs": [
        {
          "output_type": "stream",
          "name": "stdout",
          "text": [
            "No Frauds 99.83 % of the dataset\n",
            "Frauds 0.17 % of the dataset\n"
          ]
        }
      ]
    },
    {
      "cell_type": "markdown",
      "source": [
        "**Analysis of the distributions of the columns \"amount\" (Amount of the transaction) and \"time\" ( Date of transaction)**"
      ],
      "metadata": {
        "id": "YIn5kYJU0hO-"
      }
    },
    {
      "cell_type": "code",
      "source": [
        "fig, ax = plt.subplots(1, 2, figsize=(18,4))\n",
        "\n",
        "df_copy = df.copy()\n",
        "df_copy = df_copy.drop(df_copy[df_copy['Amount'] == 0].index)\n",
        "df_copy['Amount'] = df_copy['Amount'].apply(lambda x: log(x))\n",
        "amount_val = df_copy['Amount'].values\n",
        "time_val = df_copy['Time'].values\n",
        "\n",
        "sns.distplot(amount_val, ax=ax[0], color='r')\n",
        "ax[0].set_title('Distribution of log(Transaction Amount)', fontsize=14)\n",
        "ax[0].set_xlim([min(amount_val), max(amount_val)])\n",
        "\n",
        "sns.distplot(time_val, ax=ax[1], color='b')\n",
        "ax[1].set_title('Distribution of Transaction Time', fontsize=14)\n",
        "ax[1].set_xlim([min(time_val), max(time_val)])\n",
        "\n",
        "\n",
        "\n",
        "plt.show()"
      ],
      "metadata": {
        "id": "RO3oYoQZ0hm4",
        "colab": {
          "base_uri": "https://localhost:8080/",
          "height": 266
        },
        "outputId": "745ca156-78f0-4f67-8260-c13aa449ff12"
      },
      "execution_count": null,
      "outputs": [
        {
          "output_type": "stream",
          "name": "stderr",
          "text": [
            "/usr/local/lib/python3.8/dist-packages/seaborn/distributions.py:2619: FutureWarning: `distplot` is a deprecated function and will be removed in a future version. Please adapt your code to use either `displot` (a figure-level function with similar flexibility) or `histplot` (an axes-level function for histograms).\n",
            "  warnings.warn(msg, FutureWarning)\n",
            "/usr/local/lib/python3.8/dist-packages/seaborn/distributions.py:2619: FutureWarning: `distplot` is a deprecated function and will be removed in a future version. Please adapt your code to use either `displot` (a figure-level function with similar flexibility) or `histplot` (an axes-level function for histograms).\n",
            "  warnings.warn(msg, FutureWarning)\n"
          ]
        },
        {
          "output_type": "display_data",
          "data": {
            "text/plain": [
              "<Figure size 1296x288 with 2 Axes>"
            ],
            "image/png": "[encoded data removed]"
          },
          "metadata": {
            "needs_background": "light"
          }
        }
      ]
    },
    {
      "cell_type": "markdown",
      "source": [
        "We see than the distributions differ not only in variance and mean, but also by a large margin on their maximum and their minimum. To avoid some classification biases (For example the bias that consists in overestimating the impact of one parameter on the class), we will normalize our values in mean and variance.\n",
        "\n",
        "\n",
        "\n",
        "**Correlation matrix**"
      ],
      "metadata": {
        "id": "LVKC4gZt0h8M"
      }
    },
    {
      "cell_type": "code",
      "source": [
        "#Plotting each columns distributions for both classes"
      ],
      "metadata": {
        "id": "-GjtPqoMTvux"
      },
      "execution_count": null,
      "outputs": []
    },
    {
      "cell_type": "code",
      "source": [
        "fig, ax = plt.subplots(1, 2, figsize=(18,4))\n",
        "\n",
        "df_copy_1= df_copy.copy()\n",
        "df_copy_1 = df_copy_1.drop(df_copy_1[df_copy_1['Class']==0].index)\n",
        "\n",
        "\n",
        "df_copy = df_copy.drop(df_copy[df_copy['Class']==1].index)\n",
        "\n",
        "amount_val_fraud = df_copy_1['Amount'].values\n",
        "time_val_fraud = df_copy_1['Time'].values\n",
        "amount_val_non_fraud = df_copy['Amount'].values\n",
        "time_val_non_fraud = df_copy['Time'].values\n",
        "\n",
        "\n",
        "\n",
        "\n",
        "sns.distplot(amount_val_fraud, ax=ax[0], color='r')\n",
        "ax[0].set_title('Distribution of Transaction amount for frauds', fontsize=14)\n",
        "ax[0].set_xlim([min(time_val), max(time_val)])\n",
        "\n",
        "sns.distplot(amount_val_non_fraud, ax=ax[1], color='b')\n",
        "ax[1].set_title('Distribution of Transaction amount for non frauds', fontsize=14)\n",
        "ax[1].set_xlim([min(time_val), max(time_val)])\n",
        "\n",
        "\n",
        "\n",
        "\n",
        "\n",
        "plt.show()"
      ],
      "metadata": {
        "id": "ylE-yqzbT--q",
        "colab": {
          "base_uri": "https://localhost:8080/",
          "height": 370
        },
        "outputId": "10bfa37e-cd3f-4e81-f564-f4dea1fa26b9"
      },
      "execution_count": null,
      "outputs": [
        {
          "output_type": "stream",
          "name": "stderr",
          "text": [
            "/usr/local/lib/python3.8/dist-packages/seaborn/distributions.py:2619: FutureWarning: `distplot` is a deprecated function and will be removed in a future version. Please adapt your code to use either `displot` (a figure-level function with similar flexibility) or `histplot` (an axes-level function for histograms).\n",
            "  warnings.warn(msg, FutureWarning)\n",
            "/usr/local/lib/python3.8/dist-packages/numpy/lib/histograms.py:906: RuntimeWarning: invalid value encountered in true_divide\n",
            "  return n/db/n.sum(), bin_edges\n"
          ]
        },
        {
          "output_type": "display_data",
          "data": {
            "text/plain": [
              "<Figure size 1296x288 with 2 Axes>"
            ],
            "image/png": "[encoded data removed]"
          },
          "metadata": {
            "needs_background": "light"
          }
        }
      ]
    },
    {
      "cell_type": "code",
      "source": [
        "fig, ax = plt.subplots(1, 2, figsize=(18,4))\n",
        "\n",
        "\n",
        "\n",
        "\n",
        "\n",
        "\n",
        "plt.show()"
      ],
      "metadata": {
        "id": "5D8uRBkigPkM"
      },
      "execution_count": null,
      "outputs": []
    },
    {
      "cell_type": "code",
      "execution_count": null,
      "metadata": {
        "_cell_guid": "9f353623-9435-4bb2-b854-b4a201ec7dd9",
        "_kg_hide-input": true,
        "_uuid": "e2f417c5d7c633a1e3cdfaa78acd6bd77a38400e",
        "id": "yBiYBdIYltgp"
      },
      "outputs": [],
      "source": [
        "f, ax1 = plt.subplots(1, 1, figsize=(24,20))\n",
        "\n",
        "# Entire DataFrame\n",
        "corr = df.corr()\n",
        "sns.heatmap(corr, cmap='coolwarm_r', annot_kws={'size':20}, ax=ax1)\n",
        "ax1.set_title(\"Imbalanced Correlation Matrix \\n (don't use for reference)\", fontsize=14)\n",
        "\n"
      ]
    },
    {
      "cell_type": "markdown",
      "source": [
        "We see that some variables are strongly correlated, especially to class, amount and time. This is logical since there was already a PCA for the columns V1..V28, as a result, they are not really correlated together but only to other columns\n",
        "\n",
        "Moreover, some columns like V14, V12 and V17 are strongly correlated with the class, meaning that they will probably have a greater impact of the algorithms since they are linear algorithm mostly. ( Some algorithms may function in quadratic realms, but for example, Trees only consider inequalities)\n",
        "\n",
        "\n",
        "It is hard to analyze the meaning of these correlations without having the names of the columns. In addition, we won't suppress any higly correlated column ( The only one is only V2 and Amount and it won't change the algorithm much).\n",
        "\n",
        "**Scaling and subsampling**"
      ],
      "metadata": {
        "id": "mkNy3hdaQDTX"
      }
    },
    {
      "cell_type": "code",
      "source": [
        "# Since most of our data has already been scaled in the original csv file,\n",
        "# we should scale the columns that are left to scale (Amount and Time)\n",
        "from sklearn.preprocessing import RobustScaler\n",
        "\n",
        "# RobustScaler is less prone to outliers (Imagine one super high value)\n",
        "\n",
        "rob_scaler = RobustScaler()\n",
        "\n",
        "df['scaled_amount'] = rob_scaler.fit_transform(df['Amount'].values.reshape(-1,1))\n",
        "df['scaled_time'] = rob_scaler.fit_transform(df['Time'].values.reshape(-1,1))\n",
        "\n",
        "\n",
        "df.drop(['Time','Amount'], axis=1, inplace=True)\n",
        "\n",
        "scaled_amount = df['scaled_amount']\n",
        "scaled_time = df['scaled_time']\n",
        "\n",
        "\n",
        "\n",
        "df.drop(['scaled_amount', 'scaled_time'], axis=1, inplace=True)\n",
        "df.insert(0, 'scaled_amount', scaled_amount)\n",
        "df.insert(1, 'scaled_time', scaled_time)\n",
        "\n",
        "# Amount and Time are scaled\n",
        "\n",
        "df.head()"
      ],
      "metadata": {
        "id": "8PYOWsr2tSFH"
      },
      "execution_count": null,
      "outputs": []
    },
    {
      "cell_type": "markdown",
      "source": [
        "Here, knowing that there is only 0.17 % of frauds (the data is highly imbalanced), if we keep for the training of our models the whole data, the score of the classifier will be naturally high because he will be biaised to detect non-frauds.\n",
        "We don't want that. We want to specifically detect frauds and their particular structure. To do that, we are going to concatenate two subsets to make our training set. The first set will be the set of all frauds ( of size 492), and the second set the first 492 non frauds."
      ],
      "metadata": {
        "id": "DZmmR9htaV7g"
      }
    },
    {
      "cell_type": "markdown",
      "source": [
        "### SMOTE - Tomek Links method:"
      ],
      "metadata": {
        "id": "vu6GhTELd-tY"
      }
    },
    {
      "cell_type": "code",
      "source": [
        "\n",
        "#Là quelques trucs sont dans le désordres, genre le removal des outliers est après etc.. Parceque il dépend de l'ensemble\n",
        "#qu'on prend\n",
        "## With SMOTE-Tomek Links method which does both undersampling with Tomek Links and oversampling\n",
        "# with SMOTE\n",
        "\n",
        "\n",
        "from imblearn.pipeline import Pipeline\n",
        "from sklearn.datasets import make_classification\n",
        "from sklearn.model_selection import cross_validate\n",
        "from sklearn.model_selection import RepeatedStratifiedKFold\n",
        "from sklearn.ensemble import RandomForestClassifier\n",
        "from imblearn.combine import SMOTETomek\n",
        "from imblearn.under_sampling import TomekLinks\n",
        "\n",
        "## With SMOTE-Tomek Links method\n",
        "\n",
        "\n",
        "#\n",
        "#Define X and Y, as well as training, validation and test\n",
        "\n",
        "df_bis = df.copy()\n",
        "\n",
        "df_bis = df_bis.sample(frac=1)\n",
        "\n",
        "X = df_bis.drop('Class', axis=1)\n",
        "y = df_bis['Class']\n",
        "\n",
        "\n",
        "\n",
        "# Define model\n",
        "model=RandomForestClassifier(criterion='entropy')\n",
        "# Define SMOTE-Tomek Links\n",
        "resample=SMOTETomek(tomek=TomekLinks(sampling_strategy='majority'))\n",
        "# Define pipeline\n",
        "pipeline=Pipeline(steps=[('r', resample), ('m', model)])\n",
        "# Define evaluation procedure (here we use Repeated Stratified K-Fold CV)\n",
        "cv=RepeatedStratifiedKFold(n_splits=10, n_repeats=3, random_state=1)\n",
        "# Evaluate model\n",
        "scoring=['accuracy','precision_macro','recall_macro']\n",
        "scores = cross_validate(pipeline, X, y, scoring=scoring, cv=cv, n_jobs=-1)\n",
        "\n",
        "# summarize performance\n",
        "print('Mean Accuracy: %.4f' % np.mean(scores['test_accuracy']))\n",
        "print('Mean Precision: %.4f' % np.mean(scores['test_precision_macro']))\n",
        "print('Mean Recall: %.4f' % np.mean(scores['test_recall_macro']))"
      ],
      "metadata": {
        "id": "aAkdVbFtd9Nv"
      },
      "execution_count": null,
      "outputs": []
    },
    {
      "cell_type": "code",
      "source": [
        "## We take a sub set of the whole data\n",
        "\n",
        "df = df.sample(frac=1)\n",
        "\n",
        "fraud_df = df.loc[df['Class'] == 1]\n",
        "#non_fraud_df = df.loc[df['Class']==0].sample(frac=1, random_state = 18)[:492]\n",
        "non_fraud_df = df.loc[df['Class'] == 0][:492]\n",
        "\n",
        "normal_distributed_df = pd.concat([fraud_df, non_fraud_df])\n",
        "\n",
        "\n",
        "# Shuffle dataframe rows\n",
        "new_df = normal_distributed_df.sample(frac=1, random_state=42)\n",
        "\n",
        "new_df\n",
        "\n",
        "new_df.head()\n",
        "\n",
        "\n"
      ],
      "metadata": {
        "id": "f6NMK_AB4--H"
      },
      "execution_count": null,
      "outputs": []
    },
    {
      "cell_type": "code",
      "source": [
        "# Make sure we use the subsample in our correlation\n",
        "\n",
        "f, ax2 = plt.subplots(1, 1, figsize=(24,20))\n",
        "\n",
        "\n",
        "\n",
        "#Balanced data frame\n",
        "sub_sample_corr = new_df.corr()\n",
        "sns.heatmap(sub_sample_corr, cmap='coolwarm_r', annot_kws={'size':20}, ax=ax2)\n",
        "ax2.set_title('SubSample Correlation Matrix \\n (use for reference)', fontsize=14)\n",
        "plt.show()"
      ],
      "metadata": {
        "id": "C8WmG3eUkmJk"
      },
      "execution_count": null,
      "outputs": []
    },
    {
      "cell_type": "markdown",
      "source": [
        "####Analysis of the correlation matrix and removal of outliers\n",
        "\n",
        "We can now see on the last line of the correlation matrix that some values have a higher (absolute) correlation with the class. This means that they will probably have a bigger influence on the learning algorithm than other classes ( even if for most algorithms non linear relations are also important). We also see that undersampling has changed the structure of the correlations. Indeed, Whereas before because of PCA most vectors where uncorrelated ( And not independant), now, lots are correlated."
      ],
      "metadata": {
        "id": "aOz83xzg4cfc"
      }
    },
    {
      "cell_type": "markdown",
      "source": [
        "As some features have a more important role in the detection of the class, we don't want the outliers of theses features to influence too much our results. As a consequence, for the three most correlated to the class features, we will remove their outliers."
      ],
      "metadata": {
        "id": "uixnkfikNSqF"
      }
    },
    {
      "cell_type": "code",
      "source": [
        "# # -----> V14 Removing Outliers (Highest Negative Correlated with Labels)\n",
        "v14_fraud = new_df['V14'].loc[new_df['Class'] == 1].values\n",
        "q25, q75 = np.percentile(v14_fraud, 25), np.percentile(v14_fraud, 75)\n",
        "print('Quartile 25: {} | Quartile 75: {}'.format(q25, q75))\n",
        "v14_iqr = q75 - q25\n",
        "print('iqr: {}'.format(v14_iqr))\n",
        "\n",
        "v14_cut_off = v14_iqr * 1.5\n",
        "v14_lower, v14_upper = q25 - v14_cut_off, q75 + v14_cut_off\n",
        "print('Cut Off: {}'.format(v14_cut_off))\n",
        "print('V14 Lower: {}'.format(v14_lower))\n",
        "print('V14 Upper: {}'.format(v14_upper))\n",
        "\n",
        "outliers = [x for x in v14_fraud if x < v14_lower or x > v14_upper]\n",
        "print('Feature V14 Outliers for Fraud Cases: {}'.format(len(outliers)))\n",
        "print('V10 outliers:{}'.format(outliers))\n",
        "\n",
        "new_df = new_df.drop(new_df[(new_df['V14'] > v14_upper) | (new_df['V14'] < v14_lower)].index)\n",
        "print('----' * 44)\n",
        "\n",
        "# -----> V12 removing outliers from fraud transactions\n",
        "v12_fraud = new_df['V12'].loc[new_df['Class'] == 1].values\n",
        "q25, q75 = np.percentile(v12_fraud, 25), np.percentile(v12_fraud, 75)\n",
        "v12_iqr = q75 - q25\n",
        "\n",
        "v12_cut_off = v12_iqr * 1.5\n",
        "v12_lower, v12_upper = q25 - v12_cut_off, q75 + v12_cut_off\n",
        "print('V12 Lower: {}'.format(v12_lower))\n",
        "print('V12 Upper: {}'.format(v12_upper))\n",
        "outliers = [x for x in v12_fraud if x < v12_lower or x > v12_upper]\n",
        "print('V12 outliers: {}'.format(outliers))\n",
        "print('Feature V12 Outliers for Fraud Cases: {}'.format(len(outliers)))\n",
        "new_df = new_df.drop(new_df[(new_df['V12'] > v12_upper) | (new_df['V12'] < v12_lower)].index)\n",
        "print('Number of Instances after outliers removal: {}'.format(len(new_df)))\n",
        "print('----' * 44)\n",
        "\n",
        "\n",
        "# Removing outliers V10 Feature\n",
        "v10_fraud = new_df['V10'].loc[new_df['Class'] == 1].values\n",
        "q25, q75 = np.percentile(v10_fraud, 25), np.percentile(v10_fraud, 75)\n",
        "v10_iqr = q75 - q25\n",
        "\n",
        "v10_cut_off = v10_iqr * 1.5\n",
        "v10_lower, v10_upper = q25 - v10_cut_off, q75 + v10_cut_off\n",
        "print('V10 Lower: {}'.format(v10_lower))\n",
        "print('V10 Upper: {}'.format(v10_upper))\n",
        "outliers = [x for x in v10_fraud if x < v10_lower or x > v10_upper]\n",
        "print('V10 outliers: {}'.format(outliers))\n",
        "print('Feature V10 Outliers for Fraud Cases: {}'.format(len(outliers)))\n",
        "new_df = new_df.drop(new_df[(new_df['V10'] > v10_upper) | (new_df['V10'] < v10_lower)].index)\n",
        "print('Number of Instances after outliers removal: {}'.format(len(new_df)))"
      ],
      "metadata": {
        "id": "06wg-mGYNrXF"
      },
      "execution_count": null,
      "outputs": []
    },
    {
      "cell_type": "code",
      "execution_count": null,
      "metadata": {
        "_cell_guid": "85ce8738-7599-4b06-a722-5c0ed073599b",
        "_kg_hide-input": true,
        "_uuid": "e3751d88766a982119e522e27a9c0c647f20af85",
        "id": "MWvUL5Wrltgz"
      },
      "outputs": [],
      "source": [
        "X = new_df.drop('Class', axis=1)\n",
        "print(X)\n",
        "y = new_df['Class']\n",
        "print(y)"
      ]
    },
    {
      "cell_type": "code",
      "execution_count": null,
      "metadata": {
        "_cell_guid": "288a65b7-8b86-44b1-973d-38dbcfe82bbb",
        "_kg_hide-input": true,
        "_uuid": "fb0a479efaa7147d6702c2c24083f1118621863f",
        "id": "8-saQ4cHltg0"
      },
      "outputs": [],
      "source": [
        "from sklearn.model_selection import train_test_split\n",
        "\n",
        "# one part of the data is used for training and the other for testing ( 20% for testing )\n",
        "X_train, X_test, y_train, y_test = train_test_split(X, y, test_size=0.2, random_state=0)"
      ]
    },
    {
      "cell_type": "code",
      "execution_count": null,
      "metadata": {
        "_cell_guid": "bccd5685-a979-451e-85b3-1cb968523540",
        "_kg_hide-input": true,
        "_uuid": "28f5178089d2d133b9e7478c1c7dc7a1f98aabee",
        "id": "5sn8ypp-ltg2"
      },
      "outputs": [],
      "source": [
        "# Turn the values into an array for feeding the classification algorithms.\n",
        "X_train = X_train.values\n",
        "print(len(X_train))\n",
        "\n",
        "X_test = X_test.values\n",
        "print(len(X_test))\n",
        "\n",
        "y_train = y_train.values\n",
        "print(len(y_train))\n",
        "\n",
        "y_test = y_test.values\n",
        "print(len(y_test))\n"
      ]
    },
    {
      "cell_type": "markdown",
      "source": [
        "# **Classification and results**\n",
        "\n",
        "Now that we have cleaned and processed our data, we will try to classify it using different estimators and comparing the results."
      ],
      "metadata": {
        "id": "kYmbkIiVcGxT"
      }
    },
    {
      "cell_type": "code",
      "execution_count": null,
      "metadata": {
        "_cell_guid": "7810d0b9-b4e5-4b7f-909b-c127365b167c",
        "_kg_hide-input": true,
        "_uuid": "8dd4ea07fd60973fccabc2d46af28a09b0de9178",
        "id": "YYa715dEltg2"
      },
      "outputs": [],
      "source": [
        "# Here are the 5 classifiers that we will use\n",
        "\n",
        "classifiers = {\n",
        "    \"LogisiticRegression\": LogisticRegression(max_iter = 1000), #max_iter = 1000\n",
        "    \"KNearest\": KNeighborsClassifier(),\n",
        "    \"randomforest\":RandomForestClassifier(),\n",
        "    \"Support Vector Classifier\": SVC(),\n",
        "    \"DecisionTreeClassifier\": DecisionTreeClassifier()\n",
        "}"
      ]
    },
    {
      "cell_type": "code",
      "execution_count": null,
      "metadata": {
        "_cell_guid": "eb37c0f6-9cfe-48b6-92d3-475d5e6767a6",
        "_kg_hide-input": true,
        "_uuid": "fe129af379caccc5428cf1836e6c96bd32e68feb",
        "id": "ptnOhODhltg3"
      },
      "outputs": [],
      "source": [
        "\n",
        "from sklearn.model_selection import cross_val_score\n",
        "import time\n",
        "\n",
        "for key, classifier in classifiers.items():\n",
        "\n",
        "\n",
        "\n",
        "\n",
        "    start_time = time.time()\n",
        "\n",
        "\n",
        "    #training_score = cross_val_score(classifier, X_train, y_train, cv=5)\n",
        "\n",
        "\n",
        "    classifier.fit(X_train, y_train)\n",
        "    training_score = cross_val_score(classifier, X_train, y_train, cv=5)\n",
        "\n",
        "    print(classifier.__class__.__name__ + \"---t %s seconds ---\" % (time.time() - start_time))\n",
        "\n",
        "    #classifier.fit(X_train, y_train)\n",
        "    score2 = classifier.score(X_train,y_train)\n",
        "    score1 = classifier.score(X_test,y_test)\n",
        "\n",
        "\n",
        "\n",
        "    print(\"Classifiers: \", classifier.__class__.__name__, \"Has a training score of\", round(score2, 2) * 100, \"% accuracy score\")\n",
        "    print(\"Classifiers: \", classifier.__class__.__name__, \"Has a testing score of\", round(score1, 2) * 100, \"% accuracy score\")\n",
        "    print(\"Classifiers: \", classifier.__class__.__name__, \"Has a cross validation training score of\", round(training_score.mean(), 2) * 100, \"% accuracy score\")"
      ]
    },
    {
      "cell_type": "markdown",
      "source": [
        "We observe very high scores both on testing set and on cross validation or the training set.\n",
        "We see that for the tree and the forest method, the algorithm was able to calculate the \"perfect\" model with 100% accuracy on the test set ( Also, cross validation really is only for score purpose since it does a copy of the model and doesn't change its parameters).\n",
        "This mean that we could have better results on the test set by maybe limiting the \"perfectness\" of the trees to avoid overfitting. This could simply be done by limiting the size of the trees.\n",
        "The problem of this data set is that it is really unbalanced, so we don't have that much data in the end when we consider the fraud case. Since we don't have much data, it is really easy to find the \"perfect model\" on our data, without really gathering any compressed representation of our data.\n",
        "One way to solve this issue would be to change our training set, by adding data with oversampling, and by less reducing data by using a less harsh underfitting algorithm which leaves more data for training (For example, it would be 1/3 - 2/3 instead of half - half).\n",
        "\n",
        "- \"Training score\" represents the score on the test data of the classifier fitted on the whole training data ( 80% of the 984 vectors).\n",
        "\n",
        "- \"Cross validation training score\" uses the technique of cross training to train the data on a part of the training data and testing it on another part ( There are 5 parts).\n",
        "\n",
        "\n",
        "\n",
        "\n"
      ],
      "metadata": {
        "id": "RDJrENz9YcFL"
      }
    },
    {
      "cell_type": "code",
      "source": [
        "from sklearn.model_selection import train_test_split\n",
        "from sklearn import metrics\n",
        "from sklearn.tree import export_graphviz\n",
        "from six import StringIO\n",
        "from IPython.display import Image\n",
        "import pydotplus\n",
        "\n",
        "list_params = [2,3,4,5,6,7,8,9,10,20,50]\n",
        "\n",
        "\n",
        "for max_depth in list_params:\n",
        "\n",
        "    classifier = sk.tree.DecisionTreeClassifier(max_depth = max_depth, random_state=0)\n",
        "\n",
        "    classifier.fit(X_train, y_train)\n",
        "    training_score = cross_val_score(classifier, X_train, y_train, cv=5)\n",
        "    score2 = classifier.score(X_train,y_train)\n",
        "    score1 = classifier.score(X_test,y_test)\n",
        "\n",
        "\n",
        "    print(\"Classifiers: \", \"tree of max depth\", max_depth, \"Has a training score of\", round(score2, 2) * 100, \"% accuracy score\")\n",
        "    print(\"Classifiers: \",\"tree of max depth\", max_depth, \"Has a testing score of\", round(score1, 2) * 100, \"% accuracy score\")\n",
        "    print(\"Classifiers: \", \"tree of max depth\", max_depth, \"Has a cross validation training score of\", round(training_score.mean(), 2) * 100, \"% accuracy score\")\n",
        "    dot_data = StringIO()\n",
        "    export_graphviz(classifier, out_file=dot_data,filled=True, rounded=True,\n",
        "                    special_characters=True,class_names=['0','1'])\n",
        "    graph = pydotplus.graph_from_dot_data(dot_data.getvalue())\n",
        "    graph.write_png('lolgameskills.png')\n",
        "    Image(graph.create_png())\n",
        "\n",
        "\n",
        "\n",
        "\n",
        "\n",
        "\n",
        ""
      ],
      "metadata": {
        "id": "pfghOoxycPfh"
      },
      "execution_count": null,
      "outputs": []
    },
    {
      "cell_type": "markdown",
      "source": [
        "We can see on this example a clear example of overfitting. The more we inscrease the precision of our tree on the training score, the less it is precise on the test score.\n",
        "\n",
        "However, we lack a validation set, because, as it is, if we take the best compromise of precision on test set and precision on training set, we have no real test set left as we are biaised with the test set."
      ],
      "metadata": {
        "id": "CnSVujL0d4f_"
      }
    },
    {
      "cell_type": "markdown",
      "source": [
        "### Cost sensitive learning"
      ],
      "metadata": {
        "id": "U4-xi1bautdm"
      }
    },
    {
      "cell_type": "code",
      "source": [
        "IR = 0.17/99.83 # IR doit valoir le rapport entre le pourcentage de cas de fraude et le pourcentage de cas de non fraude\n",
        "#Pour l'instant, il vaut 1, avec le undersampling qu'on a fait, mais si on fait la méthode SMOTE et le undersampling, on obtiendra\n",
        "# un data set incomplet dont il faudra récuperer les pourcentages respectifs\n",
        "\n",
        "class_weight={0:IR,1:1}\n",
        "\n",
        "classifier = sk.tree.DecisionTreeClassifier(max_depth=5,class_weight=class_weight,random_state=0)\n",
        "\n",
        "(results_df_dt_cost_sensitive, classifier_0, train_df, test_df) = kfold_cv_with_classifier(classifier,\n",
        "                                                                         X, y,\n",
        "                                                                         n_splits=5,\n",
        "                                                                         strategy_name=\"Decision tree - Cost-sensitive\")\n",
        "\n",
        "fig_decision_boundary = plot_decision_boundary(classifier_0, train_df, test_df)"
      ],
      "metadata": {
        "id": "a6YTUtWNus1U"
      },
      "execution_count": null,
      "outputs": []
    },
    {
      "cell_type": "markdown",
      "source": [
        "##**Finding the best hyperparameter**\n",
        "\n",
        "To find the best hyperparameter, we are going to use the grid method. It is basically a method that optimises any combination of parameters by testing its particular score.\n",
        "\n",
        "We will be testing different types of penalty function for our algorithms, different kinds of kernels for SVC, and different criteria and sizes for the tree."
      ],
      "metadata": {
        "id": "O_ugxyIecTPh"
      }
    },
    {
      "cell_type": "code",
      "execution_count": null,
      "metadata": {
        "_cell_guid": "a1c35773-f4c7-4caf-9911-532784c9eae0",
        "_kg_hide-input": true,
        "_uuid": "d15b1ab16737358806e34c48dc57aa238cf0cfd2",
        "id": "yKJ3yMQNltg4"
      },
      "outputs": [],
      "source": [
        "# Use GridSearchCV to find the best parameters.\n",
        "from sklearn.model_selection import GridSearchCV\n",
        "\n",
        "# The C parameter is the regulation parameter to avoid overfitting, much like the max depth for the trees\n",
        "\n",
        "# Créer la liste des différents coefficients de fonction de cout associés pour chaque classe que l'on va tester\n",
        "# et faire gaffe si ces coefficients sont bien adaptés à l'algo, ensuite, bien changer la fonction de score sur laquelle on évalue\n",
        "# les algorithmes\n",
        "\n",
        "# Logistic Regression\n",
        "log_reg_params = {\"penalty\": ['l1', 'l2'], 'C': [0.001, 0.01, 0.1, 1, 10, 100, 1000]}\n",
        "\n",
        "\n",
        "\n",
        "grid_log_reg = GridSearchCV(LogisticRegression(max_iter = 1000), log_reg_params)\n",
        "start_time = time.time()\n",
        "grid_log_reg.fit(X_train, y_train)\n",
        "print(classifier.__class__.__name__ + \"---t %s seconds ---\" % (time.time() - start_time))\n",
        "# We automatically get the logistic regression with the best parameters.\n",
        "log_reg = grid_log_reg.best_estimator_\n",
        "\n",
        "knears_params = {\"n_neighbors\": list(range(2,5,1)), 'algorithm': ['auto', 'ball_tree', 'kd_tree', 'brute']}\n",
        "\n",
        "grid_knears = GridSearchCV(KNeighborsClassifier(), knears_params)\n",
        "start_time = time.time()\n",
        "grid_knears.fit(X_train, y_train)\n",
        "print(classifier.__class__.__name__ + \"---t %s seconds ---\" % (time.time() - start_time))\n",
        "# KNears best estimator\n",
        "knears_neighbors = grid_knears.best_estimator_\n",
        "\n",
        "# Support Vector Classifier\n",
        "svc_params = {'C': [0.5, 0.7, 0.9, 1], 'kernel': ['rbf', 'poly', 'sigmoid', 'linear']}\n",
        "grid_svc = GridSearchCV(SVC(), svc_params)\n",
        "start_time = time.time()\n",
        "grid_svc.fit(X_train, y_train)\n",
        "print(classifier.__class__.__name__ + \"---t %s seconds ---\" % (time.time() - start_time))\n",
        "\n",
        "# SVC best estimator\n",
        "svc = grid_svc.best_estimator_\n",
        "\n",
        "# DecisionTree Classifier\n",
        "tree_params = {\"criterion\": [\"gini\", \"entropy\"], \"max_depth\": list(range(2,4,1)),\n",
        "              \"min_samples_leaf\": list(range(5,7,1))}\n",
        "grid_tree = GridSearchCV(DecisionTreeClassifier(), tree_params)\n",
        "start_time = time.time()\n",
        "grid_tree.fit(X_train, y_train)\n",
        "print(classifier.__class__.__name__ + \"---t %s seconds ---\" % (time.time() - start_time))\n",
        "\n",
        "# tree best estimator\n",
        "tree_clf = grid_tree.best_estimator_"
      ]
    },
    {
      "cell_type": "code",
      "execution_count": null,
      "metadata": {
        "_cell_guid": "7f327bcd-335f-4e49-af07-fc4214dbcbdc",
        "_kg_hide-input": true,
        "_uuid": "1b2108bf377b924ed8a6efe580d9e162a132cd9e",
        "id": "YJ5FmTsPltg4"
      },
      "outputs": [],
      "source": [
        "# Overfitting Case\n",
        "\n",
        "log_reg_score = cross_val_score(log_reg, X_train, y_train, cv=5)\n",
        "print('Logistic Regression Cross Validation Score: ', round(log_reg_score.mean() * 100, 2).astype(str) + '%')\n",
        "\n",
        "\n",
        "knears_score = cross_val_score(knears_neighbors, X_train, y_train, cv=5)\n",
        "print('Knears Neighbors Cross Validation Score', round(knears_score.mean() * 100, 2).astype(str) + '%')\n",
        "\n",
        "svc_score = cross_val_score(svc, X_train, y_train, cv=5)\n",
        "print('Support Vector Classifier Cross Validation Score', round(svc_score.mean() * 100, 2).astype(str) + '%')\n",
        "\n",
        "tree_score = cross_val_score(tree_clf, X_train, y_train, cv=5)\n",
        "print('DecisionTree Classifier Cross Validation Score', round(tree_score.mean() * 100, 2).astype(str) + '%')"
      ]
    },
    {
      "cell_type": "markdown",
      "source": [
        "We weirdly find that some scores have decreased over this optimisation, whereas others have increased."
      ],
      "metadata": {
        "id": "PKMWq1EiYWEF"
      }
    },
    {
      "cell_type": "markdown",
      "source": [
        "## **Evaluating more deeply our classifiers**\n",
        "\n",
        "In this last part, we are going to compute the ROC curves and the confusion matrix to evaluate our classifiers. As well as their time efficiency for a real case use."
      ],
      "metadata": {
        "id": "UCboIDx-lGxV"
      }
    },
    {
      "cell_type": "code",
      "execution_count": null,
      "metadata": {
        "_cell_guid": "780e485a-ea64-48a0-ad97-a7516b047f32",
        "_kg_hide-input": true,
        "_uuid": "fdd59bf2c7a8e61cfb401142570643e8a29cf86b",
        "id": "etBjAkt1ltg8"
      },
      "outputs": [],
      "source": [
        "from sklearn.metrics import roc_curve\n",
        "from sklearn.model_selection import cross_val_predict\n",
        "# Create a DataFrame with all the scores and the classifiers names.\n",
        "\n",
        "\n",
        "start_time = time.time()\n",
        "log_reg_pred = cross_val_predict(log_reg, X_train, y_train, cv=5,\n",
        "                             method=\"decision_function\")\n",
        "\n",
        "print(\"log_reg_pred\"+ \"---t %s seconds ---\" % (time.time() - start_time))\n",
        "\n",
        "\n",
        "start_time = time.time()\n",
        "knears_pred = cross_val_predict(knears_neighbors, X_train, y_train, cv=5)\n",
        "print(\"knears_pred\" + \"---t %s seconds ---\" % (time.time() - start_time))\n",
        "\n",
        "\n",
        "start_time = time.time()\n",
        "svc_pred = cross_val_predict(svc, X_train, y_train, cv=5,\n",
        "                             method=\"decision_function\")\n",
        "print(\"svc_pred\" + \"---t %s seconds ---\" % (time.time() - start_time))\n",
        "\n",
        "start_time = time.time()\n",
        "tree_pred = cross_val_predict(tree_clf, X_train, y_train, cv=5)\n",
        "print(\"tree_pred\" + \"---t %s seconds ---\" % (time.time() - start_time))"
      ]
    },
    {
      "cell_type": "code",
      "execution_count": null,
      "metadata": {
        "_cell_guid": "57c211c6-e88f-4634-b321-4949df08815d",
        "_kg_hide-input": true,
        "_uuid": "cb2e4715e91e36f2029ef2a5c241991ff162cd9f",
        "id": "Y2jdAMdrltg8"
      },
      "outputs": [],
      "source": [
        "from sklearn.metrics import roc_auc_score\n",
        "\n",
        "print('Logistic Regression: ', roc_auc_score(y_train, log_reg_pred))\n",
        "print('KNears Neighbors: ', roc_auc_score(y_train, knears_pred))\n",
        "print('Support Vector Classifier: ', roc_auc_score(y_train, svc_pred))\n",
        "print('Decision Tree Classifier: ', roc_auc_score(y_train, tree_pred))"
      ]
    },
    {
      "cell_type": "code",
      "execution_count": null,
      "metadata": {
        "_cell_guid": "89b0b9b6-ef82-4b69-9517-e89a79696dbb",
        "_kg_hide-input": true,
        "_uuid": "9d57aad23f3f72f3c45bf80b089a65acbce2a9ab",
        "id": "hl5NP8lhltg9"
      },
      "outputs": [],
      "source": [
        "log_fpr, log_tpr, log_thresold = roc_curve(y_train, log_reg_pred)\n",
        "knear_fpr, knear_tpr, knear_threshold = roc_curve(y_train, knears_pred)\n",
        "svc_fpr, svc_tpr, svc_threshold = roc_curve(y_train, svc_pred)\n",
        "tree_fpr, tree_tpr, tree_threshold = roc_curve(y_train, tree_pred)\n",
        "\n",
        "\n",
        "def graph_roc_curve_multiple(log_fpr, log_tpr, knear_fpr, knear_tpr, svc_fpr, svc_tpr, tree_fpr, tree_tpr):\n",
        "    plt.figure(figsize=(16,8))\n",
        "    plt.title('ROC Curve \\n Top 4 Classifiers', fontsize=18)\n",
        "    plt.plot(log_fpr, log_tpr, label='Logistic Regression Classifier Score: {:.4f}'.format(roc_auc_score(y_train, log_reg_pred)))\n",
        "    plt.plot(knear_fpr, knear_tpr, label='KNears Neighbors Classifier Score: {:.4f}'.format(roc_auc_score(y_train, knears_pred)))\n",
        "    plt.plot(svc_fpr, svc_tpr, label='Support Vector Classifier Score: {:.4f}'.format(roc_auc_score(y_train, svc_pred)))\n",
        "    plt.plot(tree_fpr, tree_tpr, label='Decision Tree Classifier Score: {:.4f}'.format(roc_auc_score(y_train, tree_pred)))\n",
        "    plt.plot([0, 1], [0, 1], 'k--')\n",
        "    plt.axis([-0.01, 1, 0, 1])\n",
        "    plt.xlabel('False Positive Rate', fontsize=16)\n",
        "    plt.ylabel('True Positive Rate', fontsize=16)\n",
        "    plt.annotate('Minimum ROC Score of 50% \\n (This is the minimum score to get)', xy=(0.5, 0.5), xytext=(0.6, 0.3),\n",
        "                arrowprops=dict(facecolor='#6E726D', shrink=0.05),\n",
        "                )\n",
        "    plt.legend()\n",
        "\n",
        "graph_roc_curve_multiple(log_fpr, log_tpr, knear_fpr, knear_tpr, svc_fpr, svc_tpr, tree_fpr, tree_tpr)\n",
        "plt.show()"
      ]
    },
    {
      "cell_type": "code",
      "execution_count": null,
      "metadata": {
        "_cell_guid": "13a7d31c-2586-4946-aaa3-60090cd5680b",
        "_kg_hide-input": true,
        "_uuid": "d0e37500506d1b942431ac5bfabedcfea30275ce",
        "id": "xJcZOP0PlthG"
      },
      "outputs": [],
      "source": [
        "from sklearn.metrics import confusion_matrix\n",
        "\n",
        "\n",
        "y_pred_log_reg = log_reg.predict(X_test)\n",
        "y_pred_knear = knears_neighbors.predict(X_test)\n",
        "y_pred_svc = svc.predict(X_test)\n",
        "y_pred_tree = tree_clf.predict(X_test)\n",
        "\n",
        "\n",
        "log_reg_cf = confusion_matrix(y_test, y_pred_log_reg)\n",
        "kneighbors_cf = confusion_matrix(y_test, y_pred_knear)\n",
        "svc_cf = confusion_matrix(y_test, y_pred_svc)\n",
        "tree_cf = confusion_matrix(y_test, y_pred_tree)\n",
        "\n",
        "fig, ax = plt.subplots(2, 2,figsize=(22,12))\n",
        "\n",
        "\n",
        "sns.heatmap(log_reg_cf, ax=ax[0][0], annot=True, cmap=plt.cm.copper)\n",
        "ax[0, 0].set_title(\"Logistic Regression \\n Confusion Matrix\", fontsize=14)\n",
        "ax[0, 0].set_xticklabels(['', ''], fontsize=14, rotation=90)\n",
        "ax[0, 0].set_yticklabels(['', ''], fontsize=14, rotation=360)\n",
        "\n",
        "sns.heatmap(kneighbors_cf, ax=ax[0][1], annot=True, cmap=plt.cm.copper)\n",
        "ax[0][1].set_title(\"KNearsNeighbors \\n Confusion Matrix\", fontsize=14)\n",
        "ax[0][1].set_xticklabels(['', ''], fontsize=14, rotation=90)\n",
        "ax[0][1].set_yticklabels(['', ''], fontsize=14, rotation=360)\n",
        "\n",
        "sns.heatmap(svc_cf, ax=ax[1][0], annot=True, cmap=plt.cm.copper)\n",
        "ax[1][0].set_title(\"Suppor Vector Classifier \\n Confusion Matrix\", fontsize=14)\n",
        "ax[1][0].set_xticklabels(['', ''], fontsize=14, rotation=90)\n",
        "ax[1][0].set_yticklabels(['', ''], fontsize=14, rotation=360)\n",
        "\n",
        "sns.heatmap(tree_cf, ax=ax[1][1], annot=True, cmap=plt.cm.copper)\n",
        "ax[1][1].set_title(\"DecisionTree Classifier \\n Confusion Matrix\", fontsize=14)\n",
        "ax[1][1].set_xticklabels(['', ''], fontsize=14, rotation=90)\n",
        "ax[1][1].set_yticklabels(['', ''], fontsize=14, rotation=360)\n",
        "\n",
        "\n",
        "plt.show()"
      ]
    },
    {
      "cell_type": "markdown",
      "source": [
        "Pour conclure, nous retrouvons des bons resultats pour nous classifiers, toujours sans vraument comprendre d'où vient le score de 100%.\n",
        "\n",
        "On aurait pu calculer nos scores différemment, par exemple en se concentrant particulièrement sur le taux de true positive et le taux de false negative qui sont les plus importants en cas de fraude bancaire.\n",
        "\n",
        "De plus, il existe certaines méthodes spécifiques aux fraudes bancaires qui permettent de calculer en fonction de la probabilité assignée à la fraude, une fonction d'esperance qui calcule le coût pour la banque d'envoyer des experts après la détéction pour vérifier que c'est bien une fraude. C'est une fonction de performance avancée qui prendrait aussi en compte un flux discret de transaction et un certain nombre d'experts, les \"ressources\" de la banque pour aller chercher les fraudes.\n",
        "\n",
        "Limites de notre méthode:"
      ],
      "metadata": {
        "id": "crvbfpmCm6FU"
      }
    }
  ]
}